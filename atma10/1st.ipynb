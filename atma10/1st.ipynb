{
  "nbformat": 4,
  "nbformat_minor": 5,
  "metadata": {
    "colab": {
      "name": "1st.ipynb",
      "provenance": [],
      "collapsed_sections": [],
      "toc_visible": true
    },
    "kernelspec": {
      "display_name": "Python 3",
      "language": "python",
      "name": "python3"
    },
    "language_info": {
      "codemirror_mode": {
        "name": "ipython",
        "version": 3
      },
      "file_extension": ".py",
      "mimetype": "text/x-python",
      "name": "python",
      "nbconvert_exporter": "python",
      "pygments_lexer": "ipython3",
      "version": "3.9.1"
    },
    "accelerator": "GPU"
  },
  "cells": [
    {
      "cell_type": "markdown",
      "metadata": {
        "id": "RR14XsOsEdvJ"
      },
      "source": [
        "## SETUP"
      ],
      "id": "RR14XsOsEdvJ"
    },
    {
      "cell_type": "code",
      "metadata": {
        "colab": {
          "base_uri": "https://localhost:8080/"
        },
        "cellView": "form",
        "id": "60WEnanF8KJE",
        "outputId": "e769eaec-411b-469c-c5c1-fc18db50926d"
      },
      "source": [
        "# @title HARDWARE_INFO\n",
        "gpu_info = !nvidia-smi\n",
        "gpu_info = '\\n'.join(gpu_info)\n",
        "if gpu_info.find('failed') >= 0:\n",
        "  print('Select the Runtime > \"Change runtime type\" menu to enable a GPU accelerator, ')\n",
        "  print('and then re-execute this cell.')\n",
        "else:\n",
        "  print(gpu_info)"
      ],
      "id": "60WEnanF8KJE",
      "execution_count": 1,
      "outputs": [
        {
          "output_type": "stream",
          "text": [
            "Tue Mar 30 05:33:52 2021       \n",
            "+-----------------------------------------------------------------------------+\n",
            "| NVIDIA-SMI 460.56       Driver Version: 460.32.03    CUDA Version: 11.2     |\n",
            "|-------------------------------+----------------------+----------------------+\n",
            "| GPU  Name        Persistence-M| Bus-Id        Disp.A | Volatile Uncorr. ECC |\n",
            "| Fan  Temp  Perf  Pwr:Usage/Cap|         Memory-Usage | GPU-Util  Compute M. |\n",
            "|                               |                      |               MIG M. |\n",
            "|===============================+======================+======================|\n",
            "|   0  Tesla P100-PCIE...  Off  | 00000000:00:04.0 Off |                    0 |\n",
            "| N/A   43C    P0    27W / 250W |      0MiB / 16280MiB |      0%      Default |\n",
            "|                               |                      |                  N/A |\n",
            "+-------------------------------+----------------------+----------------------+\n",
            "                                                                               \n",
            "+-----------------------------------------------------------------------------+\n",
            "| Processes:                                                                  |\n",
            "|  GPU   GI   CI        PID   Type   Process name                  GPU Memory |\n",
            "|        ID   ID                                                   Usage      |\n",
            "|=============================================================================|\n",
            "|  No running processes found                                                 |\n",
            "+-----------------------------------------------------------------------------+\n"
          ],
          "name": "stdout"
        }
      ]
    },
    {
      "cell_type": "code",
      "metadata": {
        "id": "intermediate-complex",
        "colab": {
          "base_uri": "https://localhost:8080/"
        },
        "outputId": "5170b24e-1718-477d-afdb-9a6803b6cf2a"
      },
      "source": [
        "try:\n",
        "  if INSTALLED is None:\n",
        "    raise EnvironmentError\n",
        "  if INSTALLED != True:\n",
        "    raise EnvironmentError\n",
        "except:\n",
        "  !pip install pandas > /dev/null\n",
        "  !pip install transformers > /dev/null\n",
        "  !pip install matplotlib > /dev/null\n",
        "  !pip install tqdm > /dev/null\n",
        "  !pip install sklearn > /dev/null\n",
        "  !pip install lightgbm > /dev/null\n",
        "  !pip install torch > /dev/null\n",
        "  !pip install geopy > /dev/null\n",
        "  !pip install seaborn > /dev/null\n",
        "  !pip install sentencepiece > /dev/null\n",
        "  !pip install texthero > /dev/null\n",
        "  !pip install rank_bm25 > /dev/null\n",
        "  #fastText\n",
        "  !git clone https://github.com/facebookresearch/fastText.git > /dev/null\n",
        "  !pip install fastText > /dev/null\n",
        "  !rm -rf fastText > /dev/null\n",
        "  !wget -N https://dl.fbaipublicfiles.com/fasttext/supervised-models/lid.176.bin > /dev/null\n",
        "  !git clone https://github.com/junjunjunk/ml_utils.git\n",
        "INSTALLED = True"
      ],
      "id": "intermediate-complex",
      "execution_count": 2,
      "outputs": [
        {
          "output_type": "stream",
          "text": [
            "Cloning into 'fastText'...\n",
            "remote: Enumerating objects: 3854, done.\u001b[K\n",
            "remote: Total 3854 (delta 0), reused 0 (delta 0), pack-reused 3854\u001b[K\n",
            "Receiving objects: 100% (3854/3854), 8.22 MiB | 30.96 MiB/s, done.\n",
            "Resolving deltas: 100% (2417/2417), done.\n",
            "--2021-03-30 05:34:31--  https://dl.fbaipublicfiles.com/fasttext/supervised-models/lid.176.bin\n",
            "Resolving dl.fbaipublicfiles.com (dl.fbaipublicfiles.com)... 104.22.75.142, 172.67.9.4, 104.22.74.142, ...\n",
            "Connecting to dl.fbaipublicfiles.com (dl.fbaipublicfiles.com)|104.22.75.142|:443... connected.\n",
            "HTTP request sent, awaiting response... 304 Not Modified\n",
            "File ‘lid.176.bin’ not modified on server. Omitting download.\n",
            "\n",
            "fatal: destination path 'ml_utils' already exists and is not an empty directory.\n"
          ],
          "name": "stdout"
        }
      ]
    },
    {
      "cell_type": "code",
      "metadata": {
        "id": "approximate-marriage"
      },
      "source": [
        "# https://www.guruguru.science/competitions/16/discussions/38448796-6580-4560-bc1d-68159c0e4c34/\n",
        "# https://www.guruguru.science/competitions/16/discussions/b14d0693-fe4b-4ba8-9e67-533f84dd87ad/"
      ],
      "id": "approximate-marriage",
      "execution_count": 3,
      "outputs": []
    },
    {
      "cell_type": "code",
      "metadata": {
        "colab": {
          "base_uri": "https://localhost:8080/"
        },
        "id": "arbitrary-garlic",
        "outputId": "0a808f69-4943-40ac-d696-d6dc9afae8c1"
      },
      "source": [
        "# ==================\n",
        "# library\n",
        "# ==================\n",
        "import pandas as pd\n",
        "import numpy as np\n",
        "import matplotlib.pyplot as plt\n",
        "import random\n",
        "import os\n",
        "import warnings\n",
        "from pathlib import PurePath\n",
        "from pathlib import Path\n",
        "\n",
        "import scipy.sparse as sp\n",
        "from sklearn.base import BaseEstimator, TransformerMixin\n",
        "from sklearn.feature_extraction.text import CountVectorizer\n",
        "from sklearn.preprocessing import normalize\n",
        "from sklearn.utils.validation import FLOAT_DTYPES, check_array, check_is_fitted\n",
        "from sklearn.base import BaseEstimator, TransformerMixin\n",
        "from sklearn.feature_extraction.text import CountVectorizer,TfidfVectorizer,CountVectorizer\n",
        "from sklearn.preprocessing import normalize\n",
        "from sklearn.utils.validation import FLOAT_DTYPES, check_array, check_is_fitted\n",
        "from sklearn.decomposition import TruncatedSVD\n",
        "from sklearn.pipeline import Pipeline\n",
        "import cv2\n",
        "\n",
        "from tqdm import tqdm_notebook as tqdm\n",
        "from sklearn.preprocessing import LabelEncoder\n",
        "from sklearn.model_selection import KFold\n",
        "from sklearn.metrics import mean_squared_error\n",
        "import lightgbm as lgb\n",
        "import torch\n",
        "from tqdm import tqdm\n",
        "import re\n",
        "import seaborn as sns\n",
        "from collections import Counter\n",
        "\n",
        "from geopy.geocoders import Nominatim\n",
        "from fasttext import load_model\n",
        "from psutil import virtual_memory\n",
        "from transformers import BertTokenizer,XLMRobertaTokenizer\n",
        "import transformers\n",
        "import texthero as hero\n",
        "import nltk\n",
        "\n",
        "from ml_utils.utils.cache import Cache\n",
        "from ml_utils.algorithm.encoding import target_encode\n",
        "\n",
        "%matplotlib inline\n",
        "pd.set_option('display.max_columns', 300)\n",
        "tqdm.pandas()"
      ],
      "id": "arbitrary-garlic",
      "execution_count": 4,
      "outputs": [
        {
          "output_type": "stream",
          "text": [
            "/usr/local/lib/python3.7/dist-packages/tqdm/std.py:658: FutureWarning:\n",
            "\n",
            "The Panel class is removed from pandas. Accessing it from the top-level namespace will also be removed in the next version\n",
            "\n"
          ],
          "name": "stderr"
        }
      ]
    },
    {
      "cell_type": "code",
      "metadata": {
        "id": "disciplinary-romantic"
      },
      "source": [
        "# @title PATH_SETTING\n",
        "# ==================\n",
        "# Constant\n",
        "# ==================\n",
        "DATA_DIR = Path('./')\n",
        "TRAIN_PATH = PurePath(DATA_DIR,\"train.csv\")\n",
        "TEST_PATH = PurePath(DATA_DIR,\"test.csv\")\n",
        "SUB_PATH =  PurePath(DATA_DIR,\"atmacup10__sample_submission.csv\")\n",
        "SAVE_TEST_SUB_PATH = PurePath(DATA_DIR,\"lgb_baseline.csv\")"
      ],
      "id": "disciplinary-romantic",
      "execution_count": 5,
      "outputs": []
    },
    {
      "cell_type": "code",
      "metadata": {
        "id": "stock-velvet"
      },
      "source": [
        "#@title LGBM_PARAMS\n",
        "# ===============\n",
        "# Settings\n",
        "# ===============\n",
        "\n",
        "SEED = 0\n",
        "N_SPLITS = 5\n",
        "SHUFFLE = True\n",
        "LGBM_PARAMS = {'num_leaves': 32,\n",
        "               'min_data_in_leaf': 64,\n",
        "               'objective': 'regression',\n",
        "               'max_depth': -1,\n",
        "               'learning_rate': 0.05,\n",
        "               \"boosting\": \"gbdt\",\n",
        "               \"bagging_freq\": 1,\n",
        "               \"bagging_fraction\": 0.8,\n",
        "               \"bagging_seed\": SEED,\n",
        "               \"verbosity\": -1,\n",
        "              'reg_alpha': 0.1,\n",
        "              'reg_lambda': 0.3,\n",
        "              'colsample_bytree': 0.7,\n",
        "              'metric':\"rmse\",\n",
        "              'num_threads':6,\n",
        "         }\n",
        "\n",
        "LGBM_FIT_PARAMS = {\n",
        "    'num_boost_round': 10000,\n",
        "    'early_stopping_rounds': 200,\n",
        "    'verbose_eval': 200,\n",
        "}"
      ],
      "id": "stock-velvet",
      "execution_count": 6,
      "outputs": []
    },
    {
      "cell_type": "code",
      "metadata": {
        "id": "ed7nJc_SHnOX"
      },
      "source": [
        "cols = []\n",
        "cat_cols = []"
      ],
      "id": "ed7nJc_SHnOX",
      "execution_count": 7,
      "outputs": []
    },
    {
      "cell_type": "code",
      "metadata": {
        "id": "presidential-disposal"
      },
      "source": [
        "# =====================\n",
        "# Function\n",
        "# =====================\n",
        "def train_lgbm(X_train, y_train, X_valid, y_valid, X_test, categorical_features, feature_name, fold_id,lgb_params, fit_params, loss_func):\n",
        "    \n",
        "    train = lgb.Dataset(X_train, y_train,\n",
        "                        categorical_feature=categorical_features,\n",
        "                        feature_name=feature_name)\n",
        "    if X_valid is not None:\n",
        "        valid = lgb.Dataset(X_valid, y_valid,\n",
        "                            categorical_feature=categorical_features,\n",
        "                            feature_name=feature_name)\n",
        "        \n",
        "    model = None\n",
        "   \n",
        "    if X_valid is not None:\n",
        "        model = lgb.train(\n",
        "            lgb_params,\n",
        "            train,\n",
        "            valid_sets=[train,valid],\n",
        "            **fit_params\n",
        "        )\n",
        "    else:\n",
        "        model = lgb.train(\n",
        "            lgb_params,\n",
        "            train,\n",
        "            **fit_params\n",
        "        )\n",
        "    \n",
        "    # train score\n",
        "    if X_valid is not None:\n",
        "        y_pred_valid = model.predict(X_valid)\n",
        "        valid_loss = loss_func(y_valid, y_pred_valid)\n",
        "    else:\n",
        "        y_pred_valid = None\n",
        "        valid_loss = None\n",
        "    \n",
        "    #test\n",
        "    if X_test is not None:\n",
        "        y_pred_test = model.predict(X_test)\n",
        "    else:\n",
        "        y_pred_test = None\n",
        "\n",
        "    return model,y_pred_valid, y_pred_test, valid_loss\n",
        "\n",
        "def calc_loss(y_true, y_pred):\n",
        "    return  np.sqrt(mean_squared_error(y_true, y_pred))"
      ],
      "id": "presidential-disposal",
      "execution_count": 8,
      "outputs": []
    },
    {
      "cell_type": "code",
      "metadata": {
        "id": "polar-validation",
        "cellView": "form"
      },
      "source": [
        "# @title BM25\n",
        "class BM25Transformer(TransformerMixin, BaseEstimator):\n",
        "    \"\"\"Transform a count matrix to a normalized tf or Okapi BM25 representation\n",
        "\n",
        "    Parameters\n",
        "    ----------\n",
        "    norm : {'l1', 'l2'}, default='l2'\n",
        "        Each output row will have unit norm, either:\n",
        "        * 'l2': Sum of squares of vector elements is 1. The cosine\n",
        "        similarity between two vectors is their dot product when l2 norm has\n",
        "        been applied.\n",
        "        * 'l1': Sum of absolute values of vector elements is 1.\n",
        "        See :func:`preprocessing.normalize`\n",
        "\n",
        "    Attributes\n",
        "    ----------\n",
        "    idf : array of shape (n_features)\n",
        "        The inverse document frequency (IDF) vector;\n",
        "\n",
        "    Examples\n",
        "    --------\n",
        "    >>> from sklearn.feature_extraction.text import TfidfTransformer\n",
        "    >>> from sklearn.feature_extraction.text import CountVectorizer\n",
        "    >>> from sklearn.pipeline import Pipeline\n",
        "    >>> import numpy as np\n",
        "    >>> corpus = ['this is the first document',\n",
        "    ...           'this document is the second document',\n",
        "    ...           'and this is the third one',\n",
        "    ...           'is this the first document']\n",
        "    >>> vocabulary = ['this', 'document', 'first', 'is', 'second', 'the',\n",
        "    ...               'and', 'one']\n",
        "    >>> pipe = Pipeline([('count', CountVectorizer(vocabulary=vocabulary)),\n",
        "    ...                  ('tfid', TfidfTransformer())]).fit(corpus)\n",
        "    >>> pipe['count'].transform(corpus).toarray()\n",
        "    array([[1, 1, 1, 1, 0, 1, 0, 0],\n",
        "           [1, 2, 0, 1, 1, 1, 0, 0],\n",
        "           [1, 0, 0, 1, 0, 1, 1, 1],\n",
        "           [1, 1, 1, 1, 0, 1, 0, 0]])\n",
        "    >>> pipe['tfid'].idf\n",
        "    array([1.        , 1.22314355, 1.51082562, 1.        , 1.91629073,\n",
        "           1.        , 1.91629073, 1.91629073])\n",
        "    >>> pipe.transform(corpus).shape\n",
        "    (4, 8)\n",
        "    \"\"\"\n",
        "\n",
        "    def __init__(self, norm=\"l2\", k1=1.2, b=0.75):\n",
        "        self.norm = norm\n",
        "        self.k1 = k1\n",
        "        self.b = b\n",
        "        self.avdl = None\n",
        "\n",
        "    def fit(self, X, y=None):\n",
        "        \"\"\"Learn(Calculate) the idf vector (global term weights).\n",
        "        Parameters\n",
        "        ----------\n",
        "        X : sparse matrix of shape n_samples, n_features)\n",
        "            A matrix of term/token counts. (CountVector)\n",
        "        \"\"\"\n",
        "        X = check_array(X, accept_sparse=(\"csr\", \"csc\"))\n",
        "        if not sp.issparse(X):\n",
        "            X = sp.csr_matrix(X)\n",
        "        dtype = X.dtype if X.dtype in FLOAT_DTYPES else np.float64\n",
        "\n",
        "        # Calc idf\n",
        "        n_samples, n_features = X.shape\n",
        "\n",
        "        # document_length\n",
        "        dl = X.sum(axis=1)\n",
        "        # average of document length\n",
        "        self.avgdl = np.mean(dl)\n",
        "\n",
        "        document_frequency = self._document_frequency(X)\n",
        "        # NOTE: copy=False is necessary for scipy >= 1.1\n",
        "        document_frequency = document_frequency.astype(dtype, copy=False)\n",
        "        idf = np.log((n_samples - document_frequency + 0.5) / (document_frequency + 0.5))\n",
        "        self._idf_diag = sp.diags(\n",
        "            idf, offsets=0, shape=(n_features, n_features), format=\"csr\", dtype=dtype\n",
        "        )\n",
        "\n",
        "        return self\n",
        "\n",
        "    def transform(self, X, copy=True):\n",
        "        \"\"\"Transform a count matrix to a tf or tf-idf representation\n",
        "        Parameters\n",
        "        ----------\n",
        "        X : sparse matrix of (n_samples, n_features)\n",
        "            a matrix of term/token counts (CountVector)\n",
        "        copy : bool, default=True\n",
        "            Whether to copy X and operate on the copy or perform in-place\n",
        "            operations.\n",
        "        Returns\n",
        "        -------\n",
        "        vectors : sparse matrix of shape (n_samples, n_features)\n",
        "        \"\"\"\n",
        "        X = check_array(X, accept_sparse=\"csr\", dtype=FLOAT_DTYPES, copy=copy)\n",
        "        if not sp.issparse(X):\n",
        "            X = sp.csr_matrix(X, dtype=np.float64)\n",
        "\n",
        "        n_samples, n_features = X.shape\n",
        "\n",
        "        check_is_fitted(self, attributes=[\"idf\"], msg=\"idf vector is not fitted\")\n",
        "\n",
        "        expected_n_features = self._idf_diag.shape[0]\n",
        "        if n_features != expected_n_features:\n",
        "            raise ValueError(\n",
        "                \"Input has n_features=%d while the model\"\n",
        "                \" has been trained with n_features=%d\"\n",
        "                % (n_features, expected_n_features)\n",
        "            )\n",
        "\n",
        "        # document length: Shape=(n_sample)\n",
        "        dl = np.sum(X,axis=1)\n",
        "        sz = X.indptr[1:] - X.indptr[0:-1]\n",
        "        rep = np.repeat(np.asarray(dl), sz)\n",
        "\n",
        "        denominator = X.data + self.k1 * (1 - self.b + self.b  * (rep / self.avgdl))\n",
        "\n",
        "        dtype = X.dtype if X.dtype in FLOAT_DTYPES else np.float64\n",
        "\n",
        "        X[X.nonzero()] = ((X[X.nonzero()] * (self.k1 + 1)) / (denominator))\n",
        "        X = X * self._idf_diag\n",
        "        if self.norm:\n",
        "            X = normalize(X, norm=self.norm, copy=False)\n",
        "\n",
        "        return X\n",
        "\n",
        "    @classmethod\n",
        "    def _document_frequency(self, X):\n",
        "        \"\"\"Count the number of non-zero values for each feature in sparse X.\"\"\"\n",
        "        if sp.isspmatrix_csr(X):\n",
        "            return np.bincount(X.indices, minlength=X.shape[1])\n",
        "        else:\n",
        "            return np.diff(X.indptr)\n",
        "\n",
        "    @property\n",
        "    def idf(self):\n",
        "        # if _idf_diag is not set, this will raise an attribute error,\n",
        "        # which means hasattr(self, \"idf\") is False\n",
        "        return np.ravel(self._idf_diag.sum(axis=0))\n",
        "\n",
        "\n",
        "class BM25Vectorizer(CountVectorizer):\n",
        "    r\"\"\"Convert a collection of raw documents to a matrix of BM25 features.\n",
        "\n",
        "    See Also\n",
        "    --------\n",
        "    CountVectorizer : Transforms text into a sparse matrix of n-gram counts.\n",
        "\n",
        "    Notes\n",
        "    -----\n",
        "    The ``stop_words_`` attribute can get large and increase the model size\n",
        "    when pickling. This attribute is provided only for introspection and can\n",
        "    be safely removed using delattr or set to None before pickling.\n",
        "    Examples\n",
        "    --------\n",
        "    >>> from sklearn.feature_extraction.text import TfidfVectorizer\n",
        "    >>> corpus = [\n",
        "    ...     'This is the first document.',\n",
        "    ...     'This document is the second document.',\n",
        "    ...     'And this is the third one.',\n",
        "    ...     'Is this the first document?',\n",
        "    ... ]\n",
        "    >>> vectorizer = TfidfVectorizer()\n",
        "    >>> X = vectorizer.fit_transform(corpus)\n",
        "    >>> print(vectorizer.get_feature_names())\n",
        "    ['and', 'document', 'first', 'is', 'one', 'second', 'the', 'third', 'this']\n",
        "    >>> print(X.shape)\n",
        "    (4, 9)\n",
        "    \"\"\"\n",
        "\n",
        "    def __init__(\n",
        "        self,\n",
        "        *,\n",
        "        input=\"content\",\n",
        "        encoding=\"utf-8\",\n",
        "        decode_error=\"strict\",\n",
        "        strip_accents=None,\n",
        "        lowercase=True,\n",
        "        preprocessor=None,\n",
        "        tokenizer=None,\n",
        "        analyzer=\"word\",\n",
        "        stop_words=None,\n",
        "        token_pattern=r\"(?u)\\b\\w\\w+\\b\",\n",
        "        ngram_range=(1, 1),\n",
        "        max_df=1.0,\n",
        "        min_df=1,\n",
        "        max_features=None,\n",
        "        vocabulary=None,\n",
        "        binary=False,\n",
        "        dtype=np.float64,\n",
        "        norm=\"l2\"\n",
        "    ):\n",
        "\n",
        "        super().__init__(\n",
        "            input=input,\n",
        "            encoding=encoding,\n",
        "            decode_error=decode_error,\n",
        "            strip_accents=strip_accents,\n",
        "            lowercase=lowercase,\n",
        "            preprocessor=preprocessor,\n",
        "            tokenizer=tokenizer,\n",
        "            analyzer=analyzer,\n",
        "            stop_words=stop_words,\n",
        "            token_pattern=token_pattern,\n",
        "            ngram_range=ngram_range,\n",
        "            max_df=max_df,\n",
        "            min_df=min_df,\n",
        "            max_features=max_features,\n",
        "            vocabulary=vocabulary,\n",
        "            binary=binary,\n",
        "            dtype=dtype,\n",
        "        )\n",
        "\n",
        "        self._bm25 = BM25Transformer(norm=norm)\n",
        "\n",
        "    # Broadcast the TF-IDF parameters to the underlying transformer instance\n",
        "    # for easy grid search and repr\n",
        "\n",
        "    @property\n",
        "    def norm(self):\n",
        "        return self._bm25.norm\n",
        "\n",
        "    @norm.setter\n",
        "    def norm(self, value):\n",
        "        self._bm25.norm = value\n",
        "\n",
        "    @property\n",
        "    def idf(self):\n",
        "        return self._bm25.idf\n",
        "\n",
        "    @idf.setter\n",
        "    def idf(self, value):\n",
        "        self._validate_vocabulary()\n",
        "        if hasattr(self, \"vocabulary_\"):\n",
        "            if len(self.vocabulary_) != len(value):\n",
        "                raise ValueError(\n",
        "                    \"idf length = %d must be equal \"\n",
        "                    \"to vocabulary size = %d\" % (len(value), len(self.vocabulary))\n",
        "                )\n",
        "        self._bm25.idf = value\n",
        "\n",
        "    def _check_params(self):\n",
        "        if self.dtype not in FLOAT_DTYPES:\n",
        "            warnings.warn(\n",
        "                \"Only {} 'dtype' should be used. {} 'dtype' will \"\n",
        "                \"be converted to np.float64.\".format(FLOAT_DTYPES, self.dtype),\n",
        "                UserWarning,\n",
        "            )\n",
        "\n",
        "    def fit(self, raw_documents, y=None):\n",
        "        \"\"\"Learn vocabulary and idf from training set.\n",
        "        Parameters\n",
        "        ----------\n",
        "        raw_documents : iterable\n",
        "            An iterable which yields either str, unicode or file objects.\n",
        "        y : None\n",
        "            This parameter is not needed to compute tfidf.\n",
        "        Returns\n",
        "        -------\n",
        "        self : object\n",
        "            Fitted vectorizer.\n",
        "        \"\"\"\n",
        "        self._check_params()\n",
        "        self._warn_for_unused_params()\n",
        "        X = super().fit_transform(raw_documents)\n",
        "        self._bm25.fit(X)\n",
        "        return self\n",
        "\n",
        "    def fit_transform(self, raw_documents, y=None):\n",
        "        \"\"\"Learn vocabulary and idf, return document-term matrix.\n",
        "        This is equivalent to fit followed by transform, but more efficiently\n",
        "        implemented.\n",
        "        Parameters\n",
        "        ----------\n",
        "        raw_documents : iterable\n",
        "            An iterable which yields either str, unicode or file objects.\n",
        "        y : None\n",
        "            This parameter is ignored.\n",
        "        Returns\n",
        "        -------\n",
        "        X : sparse matrix of (n_samples, n_features)\n",
        "            Tf-idf-weighted document-term matrix.\n",
        "        \"\"\"\n",
        "        self._check_params()\n",
        "        # fit_transform by CountVectorizer\n",
        "        X = super().fit_transform(raw_documents)\n",
        "\n",
        "        self._bm25.fit(X)\n",
        "        # X is already a transformed view of raw_documents so we set copy to False\n",
        "        return self._bm25.transform(X, copy=False)\n",
        "\n",
        "    def transform(self, raw_documents):\n",
        "        \"\"\"Transform documents to document-term matrix.\n",
        "        Uses the vocabulary and document frequencies (df) learned by fit (or\n",
        "        fit_transform).\n",
        "        Parameters\n",
        "        ----------\n",
        "        raw_documents : iterable\n",
        "            An iterable which yields either str, unicode or file objects.\n",
        "        Returns\n",
        "        -------\n",
        "        X : sparse matrix of (n_samples, n_features)\n",
        "            Tf-idf-weighted document-term matrix.\n",
        "        \"\"\"\n",
        "        check_is_fitted(self, msg=\"The TF-IDF vectorizer is not fitted\")\n",
        "\n",
        "        # CountVector\n",
        "        X = super().transform(raw_documents)\n",
        "\n",
        "        return self._bm25.transform(X, copy=False)"
      ],
      "id": "polar-validation",
      "execution_count": 9,
      "outputs": []
    },
    {
      "cell_type": "code",
      "metadata": {
        "id": "connected-spray",
        "cellView": "form"
      },
      "source": [
        "# @title BertSequenceVectorizer\n",
        "class BertSequenceVectorizer:\n",
        "    def __init__(self,model_name='bert-base-multilingual-uncased'):\n",
        "        self.device = 'cuda' if torch.cuda.is_available() else 'cpu'\n",
        "        self.model_name = model_name\n",
        "        self.tokenizer = BertTokenizer.from_pretrained(self.model_name)\n",
        "        self.bert_model = transformers.BertModel.from_pretrained(self.model_name)\n",
        "        self.bert_model = self.bert_model.to(self.device)\n",
        "        self.max_len = 128\n",
        "\n",
        "\n",
        "    def vectorize(self, sentence : str) -> np.array:\n",
        "        inp = self.tokenizer.encode(sentence)\n",
        "        len_inp = len(inp)\n",
        "\n",
        "        if len_inp >= self.max_len:\n",
        "            inputs = inp[:self.max_len]\n",
        "            masks = [1] * self.max_len\n",
        "        else:\n",
        "            inputs = inp + [0] * (self.max_len - len_inp)\n",
        "            masks = [1] * len_inp + [0] * (self.max_len - len_inp)\n",
        "\n",
        "        inputs_tensor = torch.tensor([inputs], dtype=torch.long).to(self.device)\n",
        "        masks_tensor = torch.tensor([masks], dtype=torch.long).to(self.device)\n",
        "\n",
        "        bert_out = self.bert_model(inputs_tensor, masks_tensor)\n",
        "        seq_out, pooled_out = bert_out['last_hidden_state'], bert_out['pooler_output']\n",
        "\n",
        "        if torch.cuda.is_available():    \n",
        "            return seq_out[0][0].cpu().detach().numpy() # 0番目は [CLS] token, 768 dim の文章特徴量\n",
        "        else:\n",
        "            return seq_out[0][0].detach().numpy()"
      ],
      "id": "connected-spray",
      "execution_count": 10,
      "outputs": []
    },
    {
      "cell_type": "code",
      "metadata": {
        "cellView": "form",
        "id": "TQolGjY2Gr9k"
      },
      "source": [
        "# @title RobertaSequenceVectorizer\n",
        "class RobertaSequenceVectorizer:\n",
        "    def __init__(self,model_name='xlm-roberta-base'):\n",
        "        self.device = 'cuda' if torch.cuda.is_available() else 'cpu'\n",
        "        self.model_name = model_name\n",
        "        self.tokenizer = XLMRobertaTokenizer.from_pretrained(\"xlm-roberta-base\")\n",
        "        self.roberta_model = transformers.XLMRobertaModel.from_pretrained(self.model_name)\n",
        "        self.roberta_model = self.roberta_model.to(self.device)\n",
        "        self.max_len = 128\n",
        "\n",
        "    def vectorize(self, sentence : str) -> np.array:\n",
        "        inp = self.tokenizer.encode(sentence)\n",
        "        len_inp = len(inp)\n",
        "\n",
        "        if len_inp >= self.max_len:\n",
        "            inputs = inp[:self.max_len]\n",
        "            masks = [1] * self.max_len\n",
        "        else:\n",
        "            inputs = inp + [0] * (self.max_len - len_inp)\n",
        "            masks = [1] * len_inp + [0] * (self.max_len - len_inp)\n",
        "\n",
        "        inputs_tensor = torch.tensor([inputs], dtype=torch.long).to(self.device)\n",
        "        masks_tensor = torch.tensor([masks], dtype=torch.long).to(self.device)\n",
        "\n",
        "        bert_out = self.roberta_model(inputs_tensor, masks_tensor)\n",
        "        seq_out, pooled_out = bert_out['last_hidden_state'], bert_out['pooler_output']\n",
        "\n",
        "        if torch.cuda.is_available():    \n",
        "            return seq_out[0][0].cpu().detach().numpy() # 0番目は [CLS] token, 768 dim の文章特徴量\n",
        "        else:\n",
        "            return seq_out[0][0].detach().numpy()\n"
      ],
      "id": "TQolGjY2Gr9k",
      "execution_count": 11,
      "outputs": []
    },
    {
      "cell_type": "code",
      "metadata": {
        "colab": {
          "base_uri": "https://localhost:8080/"
        },
        "id": "foster-domain",
        "outputId": "9c7674b6-17f6-4f48-8583-a953ebaa7c46"
      },
      "source": [
        "train = pd.read_csv(TRAIN_PATH)\n",
        "test = pd.read_csv(TEST_PATH)\n",
        "len_train = len(train)\n",
        "y = np.log1p(train[\"likes\"])\n",
        "print('train shape:', train.shape)\n",
        "print('test shape:', test.shape)"
      ],
      "id": "foster-domain",
      "execution_count": 12,
      "outputs": [
        {
          "output_type": "stream",
          "text": [
            "train shape: (12026, 19)\n",
            "test shape: (12008, 18)\n"
          ],
          "name": "stdout"
        }
      ]
    },
    {
      "cell_type": "code",
      "metadata": {
        "colab": {
          "base_uri": "https://localhost:8080/"
        },
        "id": "YWk7SqkCHi3S",
        "outputId": "1c5750ce-87f2-416a-a8c6-aa3aa44b628b"
      },
      "source": [
        "print(train.columns.to_list())\n",
        "\n",
        "train['acquisition_year'] = pd.to_datetime(train['acquisition_date']).dt.year\n",
        "test['acquisition_year'] = pd.to_datetime(test['acquisition_date']).dt.year\n",
        "\n",
        "add_cols = ['art_series_id','principal_maker','acquisition_method',\n",
        "            'acquisition_credit_line','acquisition_year','dating_period', 'dating_year_early',\n",
        "            'dating_year_late',]\n",
        "add_cat_cols = ['art_series_id','principal_maker','acquisition_method','acquisition_credit_line']\n",
        "\n",
        "cols = [*cols,*add_cols]\n",
        "cat_cols = [*cat_cols,*add_cat_cols]"
      ],
      "id": "YWk7SqkCHi3S",
      "execution_count": 13,
      "outputs": [
        {
          "output_type": "stream",
          "text": [
            "['object_id', 'art_series_id', 'title', 'description', 'long_title', 'principal_maker', 'principal_or_first_maker', 'sub_title', 'copyright_holder', 'more_title', 'acquisition_method', 'acquisition_date', 'acquisition_credit_line', 'dating_presenting_date', 'dating_sorting_date', 'dating_period', 'dating_year_early', 'dating_year_late', 'likes']\n"
          ],
          "name": "stdout"
        }
      ]
    },
    {
      "cell_type": "code",
      "metadata": {
        "id": "appropriate-singles",
        "colab": {
          "base_uri": "https://localhost:8080/"
        },
        "outputId": "4e71fc0e-98cb-48c6-b20c-9d52ecd17e54"
      },
      "source": [
        "# TfidfにかけてTruncatedSVDで64次元にする\n",
        "@Cache('./cache')\n",
        "def make_tfidf_feature(train,test,texts):\n",
        "  custom_stopwords = nltk.corpus.stopwords.words('dutch') + nltk.corpus.stopwords.words('english')\n",
        "  pipeline = Pipeline([\n",
        "      ('tfidf', TfidfVectorizer(max_features=100000)),\n",
        "      ('svd', TruncatedSVD(n_components=64)),\n",
        "  ])\n",
        "\n",
        "  for column in texts:\n",
        "    text_features_tfidf_train = pd.DataFrame()\n",
        "    text_features_tfidf_test = pd.DataFrame()\n",
        "\n",
        "    raw_text = train[column]\n",
        "    clean_text = hero.clean(raw_text, pipeline=[\n",
        "        hero.preprocessing.fillna,\n",
        "        hero.preprocessing.lowercase,\n",
        "        hero.preprocessing.remove_digits,\n",
        "        hero.preprocessing.remove_punctuation,\n",
        "        hero.preprocessing.remove_diacritics,\n",
        "        lambda x: hero.preprocessing.remove_stopwords(x, stopwords=custom_stopwords)\n",
        "    ])\n",
        "    # hero.visualization.wordcloud(clean_text, colormap='viridis', background_color='white')\n",
        "    vectorized_text =  pd.DataFrame(pipeline.fit_transform(clean_text))\n",
        "    vectorized_text = vectorized_text.add_prefix(f'{column}_tfidf_')\n",
        "    text_features_tfidf_train = pd.concat([text_features_tfidf_train,vectorized_text],axis=1)\n",
        "\n",
        "    raw_text = test[column]\n",
        "    clean_text = hero.clean(raw_text, pipeline=[\n",
        "        hero.preprocessing.fillna,\n",
        "        hero.preprocessing.lowercase,\n",
        "        hero.preprocessing.remove_digits,\n",
        "        hero.preprocessing.remove_punctuation,\n",
        "        hero.preprocessing.remove_diacritics,\n",
        "        lambda x: hero.preprocessing.remove_stopwords(x, stopwords=custom_stopwords)\n",
        "    ])\n",
        "    # hero.visualization.wordcloud(clean_text, colormap='viridis', background_color='white')\n",
        "    vectorized_text =  pd.DataFrame(pipeline.transform(clean_text))\n",
        "    vectorized_text = vectorized_text.add_prefix(f'{column}_tfidf_')\n",
        "    text_features_tfidf_test = pd.concat([text_features_tfidf_test,vectorized_text],axis=1)\n",
        "    return text_features_tfidf_train,text_features_tfidf_test\n",
        "\n",
        "texts = ['title','description','long_title','more_title','sub_title']\n",
        "text_features_tfidf_train,text_features_tfidf_test = make_tfidf_feature(train,test,texts)\n",
        "\n",
        "train = pd.concat([train,text_features_tfidf_train],axis=1)\n",
        "test = pd.concat([test,text_features_tfidf_test],axis=1)\n",
        "cols = [*cols,*text_features_tfidf_test.columns.to_list()]"
      ],
      "id": "appropriate-singles",
      "execution_count": 14,
      "outputs": [
        {
          "output_type": "stream",
          "text": [
            "make_tfidf_feature_a82c951e27cce59333b84b5540b1e59a has been called\n",
            "make_tfidf_feature_a82c951e27cce59333b84b5540b1e59a cache not found\n"
          ],
          "name": "stdout"
        }
      ]
    },
    {
      "cell_type": "code",
      "metadata": {
        "id": "rural-photographer",
        "colab": {
          "base_uri": "https://localhost:8080/"
        },
        "outputId": "9d113c91-b1d2-409b-f90e-76a15eff6bc3"
      },
      "source": [
        "#BM25にかけてTruncatedSVDで64次元にする\n",
        "\n",
        "@Cache('./cache')\n",
        "def make_bm25_feature(train,test,texts):\n",
        "  custom_stopwords = nltk.corpus.stopwords.words('dutch') + nltk.corpus.stopwords.words('english')\n",
        "  pipeline = Pipeline([\n",
        "      ('bm25', BM25Vectorizer(max_features=100000)),\n",
        "      ('svd', TruncatedSVD(n_components=64)),\n",
        "  ])\n",
        "\n",
        "  for column in texts:\n",
        "    text_features_bm25_train = pd.DataFrame()\n",
        "    text_features_bm25_test = pd.DataFrame()\n",
        "    raw_text = train[column]\n",
        "    clean_text = hero.clean(raw_text, pipeline=[\n",
        "        hero.preprocessing.fillna,\n",
        "        hero.preprocessing.lowercase,\n",
        "        hero.preprocessing.remove_digits,\n",
        "        hero.preprocessing.remove_punctuation,\n",
        "        hero.preprocessing.remove_diacritics,\n",
        "        lambda x: hero.preprocessing.remove_stopwords(x, stopwords=custom_stopwords)\n",
        "    ])\n",
        "    # hero.visualization.wordcloud(clean_text, colormap='viridis', background_color='white')\n",
        "    vectorized_text =  pd.DataFrame(pipeline.fit_transform(clean_text))\n",
        "    vectorized_text = vectorized_text.add_prefix(f'{column}_bm25_')\n",
        "    text_features_bm25_train = pd.concat([text_features_bm25_train,vectorized_text],axis=1)\n",
        "\n",
        "    raw_text = test[column]\n",
        "    clean_text = hero.clean(raw_text, pipeline=[\n",
        "        hero.preprocessing.fillna,\n",
        "        hero.preprocessing.lowercase,\n",
        "        hero.preprocessing.remove_digits,\n",
        "        hero.preprocessing.remove_punctuation,\n",
        "        hero.preprocessing.remove_diacritics,\n",
        "        lambda x: hero.preprocessing.remove_stopwords(x, stopwords=custom_stopwords)\n",
        "    ])\n",
        "    # hero.visualization.wordcloud(clean_text, colormap='viridis', background_color='white')\n",
        "    vectorized_text =  pd.DataFrame(pipeline.transform(clean_text))\n",
        "    vectorized_text = vectorized_text.add_prefix(f'{column}_bm25_')\n",
        "    text_features_bm25_test = pd.concat([text_features_bm25_test,vectorized_text],axis=1)\n",
        "  return text_features_bm25_train,text_features_bm25_test\n",
        "\n",
        "\n",
        "texts = ['title','description','long_title','more_title','sub_title']\n",
        "text_features_bm25_train,text_features_bm25_test = make_bm25_feature(train,test,texts)\n",
        "\n",
        "\n",
        "train = pd.concat([train,text_features_bm25_train],axis=1)\n",
        "test = pd.concat([test,text_features_bm25_test],axis=1)\n",
        "cols = [*cols,*text_features_bm25_test.columns.to_list()]"
      ],
      "id": "rural-photographer",
      "execution_count": 15,
      "outputs": [
        {
          "output_type": "stream",
          "text": [
            "make_bm25_feature_6932237b06568fb22db1dcae94479963 has been called\n",
            "make_bm25_feature_6932237b06568fb22db1dcae94479963 cache not found\n"
          ],
          "name": "stdout"
        }
      ]
    },
    {
      "cell_type": "code",
      "metadata": {
        "id": "filled-listening"
      },
      "source": [
        "# Text系のStringlenを計算\n",
        "texts = ['title','description','long_title','more_title','sub_title']\n",
        "for column in texts:\n",
        "        train[f\"{column}_len\"] =  train[column].str.len()\n",
        "        test[f\"{column}_len\"] =  test[column].str.len()\n",
        "        cols = [*cols,f\"{column}_len\"]"
      ],
      "id": "filled-listening",
      "execution_count": 16,
      "outputs": []
    },
    {
      "cell_type": "code",
      "metadata": {
        "colab": {
          "base_uri": "https://localhost:8080/"
        },
        "id": "nutritional-conference",
        "outputId": "67576da6-9331-4e23-e1c0-233e037d7095"
      },
      "source": [
        "# Multilingual BERT vector をTruncatedSVDで32(上位解法だと６４)次元に圧縮\n",
        "\n",
        "make_bert_texts = ['title','description','long_title']\n",
        "@Cache('./cache')\n",
        "def make_bert_feature(train,test,texts):\n",
        "  created_feature_train = pd.DataFrame()\n",
        "  created_feature_test = pd.DataFrame()\n",
        "  for column in texts:\n",
        "      BSV = BertSequenceVectorizer()\n",
        "      svd = TruncatedSVD(n_components=64)\n",
        "\n",
        "      tmp = train[column].fillna(\"NaN\")\n",
        "      vectorized_texts =  tmp.progress_apply(lambda x: BSV.vectorize(x))\n",
        "      text_features_train = svd.fit_transform(vectorized_texts.to_list())\n",
        "      text_features_train = pd.DataFrame(text_features_train)\n",
        "      text_features_train = text_features_train.add_prefix(f'{column}_bert_')\n",
        "      \n",
        "      tmp = test[column].fillna(\"NaN\")\n",
        "      vectorized_texts =  tmp.progress_apply(lambda x: BSV.vectorize(x))\n",
        "      text_features_test = svd.transform(vectorized_texts.to_list())\n",
        "      text_features_test = pd.DataFrame(text_features_test)\n",
        "      text_features_test = text_features_test.add_prefix(f'{column}_bert_')\n",
        "\n",
        "      created_feature_train = pd.concat([created_feature_train,text_features_train],axis=1)\n",
        "      created_feature_test = pd.concat([created_feature_test,text_features_test],axis=1)\n",
        "  return created_feature_train, created_feature_test\n",
        "    \n",
        "text_features_train,text_features_test = make_bert_feature(train,test,make_bert_texts)\n",
        "\n",
        "train = pd.concat([train,text_features_train],axis=1)\n",
        "test = pd.concat([test,text_features_test],axis=1)\n",
        "\n",
        "cols = [*cols,*text_features_test.columns.to_list()]"
      ],
      "id": "nutritional-conference",
      "execution_count": 17,
      "outputs": [
        {
          "output_type": "stream",
          "text": [
            "make_bert_feature_85a82b502e112c3063225e46a13f5430 has been called\n",
            "make_bert_feature_85a82b502e112c3063225e46a13f5430 cache not found\n"
          ],
          "name": "stdout"
        },
        {
          "output_type": "stream",
          "text": [
            "100%|██████████| 12026/12026 [03:31<00:00, 56.80it/s]\n",
            "100%|██████████| 12008/12008 [03:27<00:00, 58.01it/s]\n",
            "100%|██████████| 12026/12026 [03:34<00:00, 56.15it/s]\n",
            " 26%|██▋       | 3167/12008 [00:56<02:39, 55.55it/s]Token indices sequence length is longer than the specified maximum sequence length for this model (648 > 512). Running this sequence through the model will result in indexing errors\n",
            "100%|██████████| 12008/12008 [03:33<00:00, 56.37it/s]\n",
            "100%|██████████| 12026/12026 [03:31<00:00, 56.98it/s]\n",
            "100%|██████████| 12008/12008 [03:31<00:00, 56.89it/s]\n"
          ],
          "name": "stderr"
        }
      ]
    },
    {
      "cell_type": "code",
      "metadata": {
        "id": "fifteen-banking",
        "colab": {
          "base_uri": "https://localhost:8080/"
        },
        "outputId": "49b4d914-1fe5-439c-f3d7-3d2cc34ac8e2"
      },
      "source": [
        "#XLM-Robertavector をTruncatedSVDで32(上位解法だと６４)次元に圧縮\n",
        "make_roberta_texts = ['title','description','long_title']\n",
        "\n",
        "@Cache('./cache')\n",
        "def make_roberta_feature(train,test,texts):\n",
        "  created_feature_train = pd.DataFrame()\n",
        "  created_feature_test = pd.DataFrame()\n",
        "  for column in texts:\n",
        "      RSV = RobertaSequenceVectorizer()\n",
        "      svd = TruncatedSVD(n_components=64)\n",
        "\n",
        "      tmp = train[column].fillna(\"NaN\")\n",
        "      vectorized_texts =  tmp.progress_apply(lambda x: RSV.vectorize(x))\n",
        "      text_features_train = svd.fit_transform(vectorized_texts.to_list())\n",
        "      text_features_train = pd.DataFrame(text_features_train)\n",
        "      text_features_train = text_features_train.add_prefix(f'{column}_roberta_')\n",
        "      \n",
        "      tmp = test[column].fillna(\"NaN\")\n",
        "      vectorized_texts =  tmp.progress_apply(lambda x: RSV.vectorize(x))\n",
        "      text_features_test = svd.transform(vectorized_texts.to_list())\n",
        "      text_features_test = pd.DataFrame(text_features_test)\n",
        "      text_features_test = text_features_test.add_prefix(f'{column}_roberta_')\n",
        "\n",
        "      created_feature_train = pd.concat([created_feature_train,text_features_train],axis=1)\n",
        "      created_feature_test = pd.concat([created_feature_test,text_features_test],axis=1)\n",
        "  return created_feature_train, created_feature_test\n",
        "\n",
        "text_features_train,text_features_test = make_roberta_feature(train,test,make_roberta_texts)\n",
        "\n",
        "train = pd.concat([train,text_features_train],axis=1)\n",
        "test = pd.concat([test,text_features_test],axis=1)\n",
        "cols = [*cols,*text_features_test.columns.to_list()]"
      ],
      "id": "fifteen-banking",
      "execution_count": 18,
      "outputs": [
        {
          "output_type": "stream",
          "text": [
            "make_roberta_feature_0cd9e0559374dd611a0c8c9226b8c88c has been called\n",
            "make_roberta_feature_0cd9e0559374dd611a0c8c9226b8c88c cache not found\n"
          ],
          "name": "stdout"
        },
        {
          "output_type": "stream",
          "text": [
            "100%|██████████| 12026/12026 [03:27<00:00, 57.83it/s]\n",
            "100%|██████████| 12008/12008 [03:27<00:00, 57.99it/s]\n",
            "100%|██████████| 12026/12026 [03:28<00:00, 57.64it/s]\n",
            " 26%|██▋       | 3163/12008 [00:55<02:36, 56.52it/s]Token indices sequence length is longer than the specified maximum sequence length for this model (617 > 512). Running this sequence through the model will result in indexing errors\n",
            "100%|██████████| 12008/12008 [03:29<00:00, 57.44it/s]\n",
            "100%|██████████| 12026/12026 [03:31<00:00, 56.99it/s]\n",
            "100%|██████████| 12008/12008 [03:30<00:00, 56.93it/s]\n"
          ],
          "name": "stderr"
        }
      ]
    },
    {
      "cell_type": "code",
      "metadata": {
        "id": "exempt-inside",
        "colab": {
          "base_uri": "https://localhost:8080/"
        },
        "outputId": "a328d6d9-ad81-4c67-b007-1b268847eeeb"
      },
      "source": [
        "model = load_model(\"./lid.176.bin\")\n",
        "for column in ['title','description','long_title']:\n",
        "    new_column = f\"{column}_lang_ft\"\n",
        "    train[new_column] = train[column].fillna(\"\").map(lambda x: model.predict(x.replace(\"\\n\", \"\"))[0][0])\n",
        "    test[new_column] = train[column].fillna(\"\").map(lambda x: model.predict(x.replace(\"\\n\", \"\"))[0][0])\n",
        "    cols = [*cols,new_column]\n",
        "    cat_cols = [*cat_cols, new_column]"
      ],
      "id": "exempt-inside",
      "execution_count": 19,
      "outputs": [
        {
          "output_type": "stream",
          "text": [
            "Warning : `load_model` does not return WordVectorModel or SupervisedModel any more, but a `FastText` object which is very similar.\n"
          ],
          "name": "stderr"
        }
      ]
    },
    {
      "cell_type": "code",
      "metadata": {
        "id": "coupled-evans"
      },
      "source": [
        "## sub_title からサイズ情報を抽出\n",
        "for axis in ['h', 'w', 't', 'd']:\n",
        "    column_name = f'size_{axis}'\n",
        "    size_info = train['sub_title'].str.extract(r'{} (\\d*|\\d*\\.\\d*)(cm|mm)'.format(axis)) # 正規表現を使ってサイズを抽出\n",
        "    size_info = size_info.rename(columns={0: column_name, 1: 'unit'})\n",
        "    size_info[column_name] = size_info[column_name].replace('', np.nan).astype(float) # dtypeがobjectになってるのでfloatに直す\n",
        "    size_info[column_name] = size_info.apply(lambda row: row[column_name] * 10 if row['unit'] == 'cm' else row[column_name], axis=1) # 　単位をmmに統一する\n",
        "    train[column_name] = size_info[column_name]\n",
        "\n",
        "for axis in ['h', 'w', 't', 'd']:\n",
        "    column_name = f'size_{axis}'\n",
        "    size_info = test['sub_title'].str.extract(r'{} (\\d*|\\d*\\.\\d*)(cm|mm)'.format(axis)) # 正規表現を使ってサイズを抽出\n",
        "    size_info = size_info.rename(columns={0: column_name, 1: 'unit'})\n",
        "    size_info[column_name] = size_info[column_name].replace('', np.nan).astype(float) # dtypeがobjectになってるのでfloatに直す\n",
        "    size_info[column_name] = size_info.apply(lambda row: row[column_name] * 10 if row['unit'] == 'cm' else row[column_name], axis=1) # 　単位をmmに統一する\n",
        "    test[column_name] = size_info[column_name]\n",
        "    cols = [*cols, column_name]\n",
        "\n",
        "# 面積\n",
        "train['size_hw'] = train['size_h'] * train['size_w']\n",
        "test['size_hw'] = test['size_h'] * test['size_w']\n",
        "cols = [*cols, 'size_hw']\n",
        "\n",
        "train['dim'] = train['sub_title'].str.count('×')+1\n",
        "test['dim'] = test['sub_title'].str.count('×')+1\n",
        "cols = [*cols, 'dim']"
      ],
      "id": "coupled-evans",
      "execution_count": 20,
      "outputs": []
    },
    {
      "cell_type": "code",
      "metadata": {
        "id": "sustainable-austria"
      },
      "source": [
        "# サイズ情報をグルーピング\n",
        "size_stat = train[['size_h', 'size_w', 'size_t', 'size_d']].agg(['max', 'min', 'std', 'mean', 'median'], axis=1)\n",
        "size_stat['max-min'] = size_stat['max']-size_stat['min']\n",
        "size_stat['max/min'] = size_stat['max']/size_stat['min']\n",
        "size_stat = size_stat.add_prefix(f'{column}_')\n",
        "train = pd.concat([train,size_stat],axis=1)\n",
        "\n",
        "size_stat = test[['size_h', 'size_w', 'size_t', 'size_d']].agg(['max', 'min', 'std', 'mean', 'median'], axis=1)\n",
        "size_stat['max-min'] = size_stat['max']-size_stat['min']\n",
        "size_stat['max/min'] = size_stat['max']/size_stat['min']\n",
        "size_stat = size_stat.add_prefix(f'{column}_')\n",
        "test = pd.concat([test,size_stat],axis=1)\n",
        "cols = [*cols,*size_stat.columns.to_list()]"
      ],
      "id": "sustainable-austria",
      "execution_count": 21,
      "outputs": []
    },
    {
      "cell_type": "code",
      "metadata": {
        "id": "intensive-premium"
      },
      "source": [
        "# maker 一部ORIGINAL\n",
        "maker_df = pd.read_csv(Path(DATA_DIR,'maker.csv'))\n",
        "train = train.merge(maker_df,how='left',left_on='principal_maker',right_on='name')\n",
        "test = test.merge(maker_df,how='left',left_on='principal_maker',right_on='name')\n",
        "\n",
        "train['date_of_death'] = train['date_of_death'].map(lambda x: str(x)[:4])\n",
        "test['date_of_death'] = test['date_of_death'].map(lambda x: str(x)[:4])\n",
        "train['date_of_death'] = train['date_of_death'].astype('float')\n",
        "test['date_of_death'] = test['date_of_death'].astype('float')\n",
        "\n",
        "train['date_of_birth'] = train['date_of_birth'].map(lambda x: str(x)[:4])\n",
        "test['date_of_birth'] = test['date_of_birth'].map(lambda x: str(x)[:4])\n",
        "train['date_of_birth'] = train['date_of_birth'].astype('float')\n",
        "test['date_of_birth'] = test['date_of_birth'].astype('float')\n",
        "\n",
        "## 制作した年の作者の年齢　ちょっときいた\n",
        "train['dating_age_early'] = train['dating_year_early'] - train['date_of_birth']\n",
        "test['dating_age_early'] = test['dating_year_early'] - test['date_of_birth']\n",
        "\n",
        "train['dating_age_late'] = train['dating_year_late'] - train['date_of_birth']\n",
        "test['dating_age_late'] = test['dating_year_late'] - test['date_of_birth']\n",
        "\n",
        "cols = [*cols,'date_of_birth','date_of_death','dating_age_early','dating_age_late']"
      ],
      "id": "intensive-premium",
      "execution_count": 22,
      "outputs": []
    },
    {
      "cell_type": "code",
      "metadata": {
        "id": "young-overview"
      },
      "source": [
        "historical_persion_df = pd.read_csv(Path(DATA_DIR,'historical_person.csv'))\n",
        "historical_persion_df = historical_persion_df.groupby('object_id').count().rename(columns={'name':'count_person'})\n",
        "\n",
        "train = train.merge(historical_persion_df,how='left',on='object_id')\n",
        "test = test.merge(historical_persion_df,how='left',on='object_id')\n",
        "\n",
        "cols = [*cols,'count_person']"
      ],
      "id": "young-overview",
      "execution_count": 23,
      "outputs": []
    },
    {
      "cell_type": "code",
      "metadata": {
        "id": "national-architect",
        "colab": {
          "base_uri": "https://localhost:8080/"
        },
        "outputId": "6ba66525-b364-4e54-faae-b26a0cd47ce6"
      },
      "source": [
        "# ORIGINAL\n",
        "@Cache('./cache')\n",
        "def make_color_feature(train,test):\n",
        "  palette_df = pd.read_csv(Path(DATA_DIR,'palette.csv'))\n",
        "  palette_df = palette_df.sort_values('ratio', ascending=False)\n",
        "  base_color_df = palette_df.drop_duplicates('object_id',keep='first').add_prefix('base_')\n",
        "\n",
        "  palette_df = pd.read_csv(Path(DATA_DIR,'palette.csv'))\n",
        "  palette_df = palette_df.merge(base_color_df,how='left',left_on='object_id',right_on='base_object_id')\n",
        "\n",
        "  palette_df['vivid'] = palette_df.apply(lambda x:(\n",
        "                              (x['base_color_r']-x['color_r'])**2+ \n",
        "                              (x['base_color_g']-x['color_g'])**2+ \n",
        "                              (x['base_color_b']-x['color_b'])**2)*x['ratio'],axis=1)\n",
        "\n",
        "  palette_df['vivid'] = np.sqrt(palette_df['vivid'])\n",
        "  color_df = palette_df[['object_id','vivid']].groupby('object_id').sum().reset_index()\n",
        "  return base_color_df,color_df\n",
        "\n",
        "base_color_df,color_df = make_color_feature(train,test)\n",
        "\n",
        "train = train.merge(color_df,how='left',on='object_id')\n",
        "test = test.merge(color_df,how='left',on='object_id')\n",
        "\n",
        "train = train.merge(base_color_df,how='left',left_on='object_id',right_on='base_object_id')\n",
        "test = test.merge(base_color_df,how='left',left_on='object_id',right_on='base_object_id')\n",
        "\n",
        "cols = [*cols,'base_color_r','base_color_g','base_color_b','vivid']"
      ],
      "id": "national-architect",
      "execution_count": 24,
      "outputs": [
        {
          "output_type": "stream",
          "text": [
            "make_color_feature_55fc3a2d233a067546fe98b27677387e has been called\n",
            "make_color_feature_55fc3a2d233a067546fe98b27677387e cache not found\n"
          ],
          "name": "stdout"
        }
      ]
    },
    {
      "cell_type": "code",
      "metadata": {
        "id": "spectacular-sweet"
      },
      "source": [
        "count_feature = []\n",
        "# count encofing(frequency)\n",
        "for c in ['art_series_id', 'principal_maker', 'principal_or_first_maker', \n",
        "       'copyright_holder', 'more_title', 'acquisition_method',\n",
        "       'acquisition_date', 'acquisition_credit_line', 'dating_presenting_date',\n",
        "       'dating_sorting_date', 'dating_period', 'dating_year_early',\n",
        "       'dating_year_late']:\n",
        "    new_column = f\"count_{c}\"\n",
        "    freq = train[c].value_counts()\n",
        "    train[new_column] = train[c].map(freq)\n",
        "    test[new_column] = test[c].map(freq)\n",
        "    cols=[*cols, new_column]"
      ],
      "id": "spectacular-sweet",
      "execution_count": 25,
      "outputs": []
    },
    {
      "cell_type": "code",
      "metadata": {
        "colab": {
          "base_uri": "https://localhost:8080/"
        },
        "id": "rw5MhtUESeJX",
        "outputId": "79b3c387-9b34-494c-adca-cabb9a4b128b"
      },
      "source": [
        "from gensim.models import word2vec, KeyedVectors\n",
        "\n",
        "material_df = pd.read_csv(Path(DATA_DIR,'material.csv'))\n",
        "technique_df = pd.read_csv(Path(DATA_DIR,'technique.csv'))\n",
        "collection_df = pd.read_csv(Path(DATA_DIR,'object_collection.csv'))\n",
        "\n",
        "mat_col = pd.concat([material_df, collection_df], axis=0).reset_index(drop=True)\n",
        "mat_tec = pd.concat([material_df, technique_df], axis=0).reset_index(drop=True)\n",
        "col_tec = pd.concat([collection_df, technique_df], axis=0).reset_index(drop=True)\n",
        "mat_col_tec = pd.concat([material_df, collection_df, technique_df], axis=0).reset_index(drop=True)\n",
        "\n",
        "mat_col_tec.groupby(\"object_id\")[\"name\"].apply(list)\n",
        "\n",
        "# 単語ベクトル表現の次元数\n",
        "# 元の語彙数をベースに適当に決めました\n",
        "model_size = {\n",
        "    \"material\": 20,\n",
        "    \"technique\": 8,\n",
        "    \"collection\": 3,\n",
        "    \"material_collection\": 20,\n",
        "    \"material_technique\": 20,\n",
        "    \"collection_technique\": 10,\n",
        "    \"material_collection_technique\": 25\n",
        "}\n",
        "\n",
        "n_iter = 100\n",
        "\n",
        "w2v_dfs = []\n",
        "for df, df_name in zip(\n",
        "        [\n",
        "            material_df, collection_df, technique_df,\n",
        "            mat_col, mat_tec, col_tec, mat_col_tec\n",
        "        ], [\n",
        "            \"material\", \"collection\", \"technique\",\n",
        "            \"material_collection\",\n",
        "            \"material_technique\",\n",
        "            \"collection_technique\",\n",
        "            \"material_collection_technique\"\n",
        "        ]):\n",
        "    df_group = df.groupby(\"object_id\")[\"name\"].apply(list).reset_index()\n",
        "    # Word2Vecの学習\n",
        "    w2v_model = word2vec.Word2Vec(df_group[\"name\"].values.tolist(),\n",
        "                                  size=model_size[df_name],\n",
        "                                  min_count=1,\n",
        "                                  window=10,\n",
        "                                  iter=n_iter)\n",
        "\n",
        "    # 各文章ごとにそれぞれの単語をベクトル表現に直し、平均をとって文章ベクトルにする\n",
        "    sentence_vectors = df_group[\"name\"].progress_apply(\n",
        "        lambda x: np.mean([w2v_model.wv[e] for e in x], axis=0))\n",
        "    sentence_vectors = np.vstack([x for x in sentence_vectors])\n",
        "    sentence_vector_df = pd.DataFrame(sentence_vectors,\n",
        "                                      columns=[f\"{df_name}_w2v_{i}\"\n",
        "                                               for i in range(model_size[df_name])])\n",
        "    sentence_vector_df.index = df_group[\"object_id\"]\n",
        "    w2v_dfs.append(sentence_vector_df)\n",
        "\n",
        "for tdf in w2v_dfs:\n",
        "  train = pd.merge(train,tdf,how='left',on='object_id')\n",
        "  test =  pd.merge(test,tdf,how='left',on='object_id')\n",
        "  cols = [*cols,*tdf.columns.to_list()]"
      ],
      "id": "rw5MhtUESeJX",
      "execution_count": 26,
      "outputs": [
        {
          "output_type": "stream",
          "text": [
            "100%|██████████| 23586/23586 [00:00<00:00, 27855.93it/s]\n",
            "100%|██████████| 14160/14160 [00:00<00:00, 19631.93it/s]\n",
            "100%|██████████| 17329/17329 [00:00<00:00, 28261.51it/s]\n",
            "100%|██████████| 23597/23597 [00:00<00:00, 27466.60it/s]\n",
            "100%|██████████| 23950/23950 [00:00<00:00, 25046.36it/s]\n",
            "100%|██████████| 21646/21646 [00:00<00:00, 24616.16it/s]\n",
            "100%|██████████| 23953/23953 [00:00<00:00, 27670.62it/s]\n"
          ],
          "name": "stderr"
        }
      ]
    },
    {
      "cell_type": "code",
      "metadata": {
        "id": "lRaQawPonoC7"
      },
      "source": [
        "def target_encode(\n",
        "    c: str,\n",
        "    train_df: pd.DataFrame,\n",
        "    test_df: pd.DataFrame = None,\n",
        "    label: str = \"label\",\n",
        "    n_splits: int = 5,\n",
        "    shuffle: bool = True,\n",
        "    random_state: int = 42,\n",
        "    is_straitified: bool = False,\n",
        ") -> None:\n",
        "    \"\"\"Target Encoding function (inplace)\n",
        "\n",
        "    Args:\n",
        "        c (str): Name of category column\n",
        "        train_df (pd.DataFrame): Train DataFrame\n",
        "        test_df (pd.DataFrame, optional): Test DataFrame. Defaults to None.\n",
        "        label (string, optional): Name of label column. Defaults to 'label'.\n",
        "        n_splits (int, optional): The number of folds. Defaults to 5.\n",
        "        shuffle (bool, optional): enable shuffle. Defaults to True.\n",
        "        random_state (int, optional): seed number. Defaults to 42.\n",
        "        is_straitified (bool,optional): valid straitified KFold. Defaults to True.\n",
        "\n",
        "    \"\"\"\n",
        "\n",
        "    # Encoding test data with all the train data\n",
        "    if test_df is not None:\n",
        "        target_mean = train_df[[c, label]].groupby(c)[label].mean()\n",
        "        test_df[f\"target_{c}\"] = test_df[c].map(target_mean)\n",
        "\n",
        "    # Encoding train data\n",
        "\n",
        "    ts = pd.Series(np.empty(train_df.shape[0]), index=train_df.index)\n",
        "\n",
        "    if is_straitified:\n",
        "        folds = StratifiedKFold(\n",
        "            n_splits=n_splits, shuffle=shuffle, random_state=random_state\n",
        "        )\n",
        "\n",
        "        for main_idx, rest_idx in folds.split(train_df, train_df[label]):\n",
        "            target_mean = train_df[[c, label]].iloc[main_idx].groupby(c)[label].mean()\n",
        "            ts[rest_idx] = train_df[c].iloc[rest_idx].map(target_mean)\n",
        "    else:\n",
        "        folds = KFold(n_splits=n_splits, shuffle=shuffle, random_state=random_state)\n",
        "\n",
        "        for main_idx, rest_idx in folds.split(train_df):\n",
        "            target_mean = train_df[[c, label]].iloc[main_idx].groupby(c)[label].mean()\n",
        "            ts[rest_idx] = train_df[c].iloc[rest_idx].map(target_mean)\n",
        "\n",
        "    train_df[f\"target_{c}\"] = ts\n"
      ],
      "id": "lRaQawPonoC7",
      "execution_count": 27,
      "outputs": []
    },
    {
      "cell_type": "code",
      "metadata": {
        "id": "Wa8GPm6NhK0p"
      },
      "source": [
        "object_collection_df = pd.read_csv(Path(DATA_DIR,'object_collection.csv'))\n",
        "\n",
        "vc = object_collection_df['name'].value_counts()\n",
        "use_names = vc[vc > 10].index\n",
        "idx = object_collection_df['name'].isin(use_names)\n",
        "object_collection_df = object_collection_df[idx].reset_index(drop=True)\n",
        "\n",
        "cross_object_collection = pd.crosstab(object_collection_df['object_id'],object_collection_df['name'])\n",
        "cross_object_collection = cross_object_collection.add_prefix('cross_object_collection_')\n",
        "\n",
        "train = train.merge(cross_object_collection,how='left',on='object_id')\n",
        "test = test.merge(cross_object_collection,how='left',on='object_id')\n",
        "\n",
        "\n",
        "cross_object_collection_columns = cross_object_collection.columns.to_list()\n",
        "cols = [*cols,*cross_object_collection_columns]\n",
        "cat_cols = [*cat_cols,*cross_object_collection_columns]\n"
      ],
      "id": "Wa8GPm6NhK0p",
      "execution_count": 28,
      "outputs": []
    },
    {
      "cell_type": "code",
      "metadata": {
        "id": "YMSGINXXhhBx"
      },
      "source": [
        "material_df = pd.read_csv(Path(DATA_DIR,'material.csv'))\n",
        "\n",
        "vc = material_df['name'].value_counts()\n",
        "use_names = vc[vc > 10].index\n",
        "idx = material_df['name'].isin(use_names)\n",
        "material_df = material_df[idx].reset_index(drop=True)\n",
        "\n",
        "cross_material = pd.crosstab(material_df['object_id'],material_df['name'])\n",
        "cross_material = cross_material.add_prefix('cross_material_')\n",
        "\n",
        "train = train.merge(cross_material,how='left',on='object_id')\n",
        "test = test.merge(cross_material,how='left',on='object_id')\n",
        "\n",
        "cross_material_columns = cross_material.columns.to_list()\n",
        "cols = [*cols,*cross_material_columns]\n",
        "cat_cols = [*cat_cols,*cross_material_columns]\n"
      ],
      "id": "YMSGINXXhhBx",
      "execution_count": 29,
      "outputs": []
    },
    {
      "cell_type": "code",
      "metadata": {
        "id": "V8N3P1-Tw2Or"
      },
      "source": [
        "# colorのhexに対してのword2vec(効くの？)\n",
        "# principal_maker_occupationのname\n",
        "# historical_personのname"
      ],
      "id": "V8N3P1-Tw2Or",
      "execution_count": 30,
      "outputs": []
    },
    {
      "cell_type": "code",
      "metadata": {
        "id": "sxUOWfuJxWKT"
      },
      "source": [
        "# groupby\n",
        "# カテゴリカル変数をキーとしてsizeやyearのmin, max, mean\n",
        "# aggregationしたものと元データのdiff, ratio"
      ],
      "id": "sxUOWfuJxWKT",
      "execution_count": 31,
      "outputs": []
    },
    {
      "cell_type": "code",
      "metadata": {
        "id": "9JuMqOszl5rZ"
      },
      "source": [
        "for c in ['principal_maker','principal_or_first_maker','copyright_holder','acquisition_method','acquisition_credit_line']:\n",
        "    target_encode(c,train,test,'likes')\n",
        "    cols = [*cols,f\"target_{c}\"]"
      ],
      "id": "9JuMqOszl5rZ",
      "execution_count": 32,
      "outputs": []
    },
    {
      "cell_type": "code",
      "metadata": {
        "id": "normal-scanning",
        "colab": {
          "base_uri": "https://localhost:8080/"
        },
        "outputId": "5fba238f-a7d1-4add-9448-a8c9a4e05c43"
      },
      "source": [
        "## 互いに存在しないカテゴリは削除\n",
        "for c in sorted(cat_cols):\n",
        "    print(c)\n",
        "    train.loc[~train[c].isin(test[c].unique()),c] = np.nan\n",
        "    test.loc[~test[c].isin(train[c].unique()),c] = np.nan\n",
        "# df = pd.concat([train[cols],test[cols]]).reset_index(drop=True)\n",
        "df = pd.concat([train,test]).reset_index(drop=True)"
      ],
      "id": "normal-scanning",
      "execution_count": 33,
      "outputs": [
        {
          "output_type": "stream",
          "text": [
            "acquisition_credit_line\n",
            "acquisition_method\n",
            "art_series_id\n",
            "cross_material_RC paper\n",
            "cross_material_baryta paper\n",
            "cross_material_canvas\n",
            "cross_material_cardboard\n",
            "cross_material_celluloid (cellulosic)\n",
            "cross_material_chalk\n",
            "cross_material_copper (metal)\n",
            "cross_material_deck paint\n",
            "cross_material_glass\n",
            "cross_material_hardboard\n",
            "cross_material_ink\n",
            "cross_material_leather\n",
            "cross_material_linen (material)\n",
            "cross_material_metal\n",
            "cross_material_oak (wood)\n",
            "cross_material_oil paint (paint)\n",
            "cross_material_paint (coating)\n",
            "cross_material_panel\n",
            "cross_material_paper\n",
            "cross_material_pencil\n",
            "cross_material_photographic paper\n",
            "cross_material_printing ink\n",
            "cross_material_silk\n",
            "cross_material_tempera\n",
            "cross_material_velvet (fabric weave)\n",
            "cross_material_watercolor (paint)\n",
            "cross_material_wood (plant material)\n",
            "cross_object_collection_Navy Model Room\n",
            "cross_object_collection_dollhouse\n",
            "cross_object_collection_drawings\n",
            "cross_object_collection_paintings\n",
            "cross_object_collection_paper\n",
            "cross_object_collection_prints\n",
            "description_lang_ft\n",
            "long_title_lang_ft\n",
            "principal_maker\n",
            "title_lang_ft\n"
          ],
          "name": "stdout"
        }
      ]
    },
    {
      "cell_type": "code",
      "metadata": {
        "id": "charming-illinois"
      },
      "source": [
        "for c in cat_cols:\n",
        "    df[c] = df[c].astype(str)\n",
        "    le = LabelEncoder()\n",
        "    df[c] = le.fit_transform(df[c])"
      ],
      "id": "charming-illinois",
      "execution_count": 34,
      "outputs": []
    },
    {
      "cell_type": "code",
      "metadata": {
        "id": "fresh-stress"
      },
      "source": [
        "test = df.iloc[len_train:].reset_index(drop=True)\n",
        "train = df.iloc[:len_train].reset_index(drop=True)\n",
        "train['likes'] = y"
      ],
      "id": "fresh-stress",
      "execution_count": 35,
      "outputs": []
    },
    {
      "cell_type": "code",
      "metadata": {
        "id": "_eixwBkHyOj-"
      },
      "source": [
        "#art_series_idをgroupとしたGroupKFold(n_split=5)"
      ],
      "id": "_eixwBkHyOj-",
      "execution_count": 36,
      "outputs": []
    },
    {
      "cell_type": "code",
      "metadata": {
        "id": "De_pLKOcofnu"
      },
      "source": [
        "# principal_makerでtarget encoding"
      ],
      "id": "De_pLKOcofnu",
      "execution_count": 37,
      "outputs": []
    },
    {
      "cell_type": "code",
      "metadata": {
        "id": "skilled-comfort",
        "colab": {
          "base_uri": "https://localhost:8080/"
        },
        "outputId": "c4c415cf-10e5-4f30-b517-c7e59f422c72"
      },
      "source": [
        "models = []\n",
        "kf = KFold(n_splits=N_SPLITS,random_state=SEED, shuffle=SHUFFLE)\n",
        "y_oof = np.empty([len(train),])\n",
        "y_test = []\n",
        "features = cols\n",
        "feature_importances = pd.DataFrame()\n",
        "categorical_features = cat_cols\n",
        "\n",
        "\n",
        "for fold, (train_idx, valid_idx) in enumerate(kf.split(train,y)):\n",
        "    print('Fold {}'.format(fold + 1))\n",
        "    for c in ['principal_maker','principal_or_first_maker','copyright_holder','acquisition_method','acquisition_credit_line']:\n",
        "       tmp_train = train.iloc[train_idx].copy().reset_index(drop=True)\n",
        "       tmp_valid = train.iloc[valid_idx].copy().reset_index(drop=True)\n",
        "       target_encode(c,tmp_train,tmp_valid,label='likes')\n",
        "    x_train, y_train = tmp_train[features], y.iloc[train_idx]\n",
        "    x_val, y_val = tmp_valid[features], y.iloc[valid_idx]\n",
        "    \n",
        "    model,y_pred_valid, y_pred_test, valid_loss = train_lgbm(\n",
        "                x_train, y_train, x_val, y_val,test[features],\n",
        "                categorical_features=categorical_features,\n",
        "                feature_name=features,\n",
        "                fold_id=fold,\n",
        "                lgb_params=LGBM_PARAMS,\n",
        "                fit_params=LGBM_FIT_PARAMS,\n",
        "                loss_func=calc_loss\n",
        "            )\n",
        "    models.append(model)\n",
        "    \n",
        "    y_oof[valid_idx] = y_pred_valid\n",
        "    score = calc_loss(y[valid_idx], y_pred_valid)\n",
        "    y_test.append(y_pred_test)\n",
        "\n",
        "score = calc_loss(y, y_oof)\n",
        "print(score)"
      ],
      "id": "skilled-comfort",
      "execution_count": 38,
      "outputs": [
        {
          "output_type": "stream",
          "text": [
            "Fold 1\n"
          ],
          "name": "stdout"
        },
        {
          "output_type": "stream",
          "text": [
            "/usr/local/lib/python3.7/dist-packages/lightgbm/basic.py:1205: UserWarning:\n",
            "\n",
            "Using categorical_feature in Dataset.\n",
            "\n",
            "/usr/local/lib/python3.7/dist-packages/lightgbm/basic.py:762: UserWarning:\n",
            "\n",
            "categorical_feature in param dict is overridden.\n",
            "\n"
          ],
          "name": "stderr"
        },
        {
          "output_type": "stream",
          "text": [
            "Training until validation scores don't improve for 200 rounds.\n",
            "[200]\ttraining's rmse: 0.640137\tvalid_1's rmse: 0.993021\n",
            "[400]\ttraining's rmse: 0.441719\tvalid_1's rmse: 0.984378\n",
            "[600]\ttraining's rmse: 0.322631\tvalid_1's rmse: 0.984855\n",
            "Early stopping, best iteration is:\n",
            "[475]\ttraining's rmse: 0.390344\tvalid_1's rmse: 0.983768\n",
            "Fold 2\n"
          ],
          "name": "stdout"
        },
        {
          "output_type": "stream",
          "text": [
            "/usr/local/lib/python3.7/dist-packages/lightgbm/basic.py:1205: UserWarning:\n",
            "\n",
            "Using categorical_feature in Dataset.\n",
            "\n",
            "/usr/local/lib/python3.7/dist-packages/lightgbm/basic.py:762: UserWarning:\n",
            "\n",
            "categorical_feature in param dict is overridden.\n",
            "\n"
          ],
          "name": "stderr"
        },
        {
          "output_type": "stream",
          "text": [
            "Training until validation scores don't improve for 200 rounds.\n",
            "[200]\ttraining's rmse: 0.640216\tvalid_1's rmse: 0.979395\n",
            "[400]\ttraining's rmse: 0.441988\tvalid_1's rmse: 0.975447\n",
            "Early stopping, best iteration is:\n",
            "[367]\ttraining's rmse: 0.468239\tvalid_1's rmse: 0.974757\n",
            "Fold 3\n"
          ],
          "name": "stdout"
        },
        {
          "output_type": "stream",
          "text": [
            "/usr/local/lib/python3.7/dist-packages/lightgbm/basic.py:1205: UserWarning:\n",
            "\n",
            "Using categorical_feature in Dataset.\n",
            "\n",
            "/usr/local/lib/python3.7/dist-packages/lightgbm/basic.py:762: UserWarning:\n",
            "\n",
            "categorical_feature in param dict is overridden.\n",
            "\n"
          ],
          "name": "stderr"
        },
        {
          "output_type": "stream",
          "text": [
            "Training until validation scores don't improve for 200 rounds.\n",
            "[200]\ttraining's rmse: 0.631223\tvalid_1's rmse: 1.03202\n",
            "[400]\ttraining's rmse: 0.434229\tvalid_1's rmse: 1.02562\n",
            "Early stopping, best iteration is:\n",
            "[394]\ttraining's rmse: 0.438779\tvalid_1's rmse: 1.02541\n",
            "Fold 4\n"
          ],
          "name": "stdout"
        },
        {
          "output_type": "stream",
          "text": [
            "/usr/local/lib/python3.7/dist-packages/lightgbm/basic.py:1205: UserWarning:\n",
            "\n",
            "Using categorical_feature in Dataset.\n",
            "\n",
            "/usr/local/lib/python3.7/dist-packages/lightgbm/basic.py:762: UserWarning:\n",
            "\n",
            "categorical_feature in param dict is overridden.\n",
            "\n"
          ],
          "name": "stderr"
        },
        {
          "output_type": "stream",
          "text": [
            "Training until validation scores don't improve for 200 rounds.\n",
            "[200]\ttraining's rmse: 0.637281\tvalid_1's rmse: 0.998402\n",
            "[400]\ttraining's rmse: 0.43989\tvalid_1's rmse: 0.991288\n",
            "[600]\ttraining's rmse: 0.321728\tvalid_1's rmse: 0.991414\n",
            "Early stopping, best iteration is:\n",
            "[482]\ttraining's rmse: 0.385291\tvalid_1's rmse: 0.990576\n",
            "Fold 5\n"
          ],
          "name": "stdout"
        },
        {
          "output_type": "stream",
          "text": [
            "/usr/local/lib/python3.7/dist-packages/lightgbm/basic.py:1205: UserWarning:\n",
            "\n",
            "Using categorical_feature in Dataset.\n",
            "\n",
            "/usr/local/lib/python3.7/dist-packages/lightgbm/basic.py:762: UserWarning:\n",
            "\n",
            "categorical_feature in param dict is overridden.\n",
            "\n"
          ],
          "name": "stderr"
        },
        {
          "output_type": "stream",
          "text": [
            "Training until validation scores don't improve for 200 rounds.\n",
            "[200]\ttraining's rmse: 0.638344\tvalid_1's rmse: 0.995447\n",
            "[400]\ttraining's rmse: 0.44074\tvalid_1's rmse: 0.992717\n",
            "[600]\ttraining's rmse: 0.322057\tvalid_1's rmse: 0.992985\n",
            "Early stopping, best iteration is:\n",
            "[435]\ttraining's rmse: 0.41607\tvalid_1's rmse: 0.991727\n",
            "0.9933956810387686\n"
          ],
          "name": "stdout"
        }
      ]
    },
    {
      "cell_type": "code",
      "metadata": {
        "id": "grand-pennsylvania"
      },
      "source": [
        "y_test_sub =  np.mean(y_test,axis=0)\n",
        "y_test_sub = np.expm1(y_test_sub)\n",
        "sub = pd.read_csv(SUB_PATH)\n",
        "sub[\"likes\"] = y_test_sub\n",
        "sub.loc[sub.likes <= 0,\"likes\"] = 0\n",
        "sub.to_csv(SAVE_TEST_SUB_PATH,index=False)"
      ],
      "id": "grand-pennsylvania",
      "execution_count": 39,
      "outputs": []
    },
    {
      "cell_type": "code",
      "metadata": {
        "id": "NmbQL_pj7vMA",
        "colab": {
          "base_uri": "https://localhost:8080/"
        },
        "outputId": "8ab33131-31ee-4e89-9368-33957d82c5b9"
      },
      "source": [
        "models[0]"
      ],
      "id": "NmbQL_pj7vMA",
      "execution_count": 40,
      "outputs": [
        {
          "output_type": "execute_result",
          "data": {
            "text/plain": [
              "<lightgbm.basic.Booster at 0x7f68d974b890>"
            ]
          },
          "metadata": {
            "tags": []
          },
          "execution_count": 40
        }
      ]
    },
    {
      "cell_type": "code",
      "metadata": {
        "id": "whole-drove",
        "colab": {
          "base_uri": "https://localhost:8080/",
          "height": 943
        },
        "outputId": "5147e6af-669a-4515-da89-45c7dc7257cb"
      },
      "source": [
        "def visualize_importance(models, feat_train_df,filter_columns=[]):\n",
        "    \"\"\"lightGBM の model 配列の feature importance を plot する\n",
        "    CVごとのブレを boxen plot として表現します.\n",
        "\n",
        "    args:\n",
        "        models:\n",
        "            List of lightGBM models\n",
        "        feat_train_df:\n",
        "            学習時に使った DataFrame\n",
        "    \"\"\"\n",
        "    feature_importance_df = pd.DataFrame()\n",
        "    for i, model in enumerate(models):\n",
        "        _df = pd.DataFrame()\n",
        "        _df['feature_importance'] = model.feature_importance()\n",
        "        _df['column'] = feat_train_df.columns\n",
        "        _df['fold'] = i + 1\n",
        "        feature_importance_df = pd.concat([feature_importance_df, _df],\n",
        "                                          axis=0, ignore_index=True)\n",
        "    \n",
        "    order = feature_importance_df.groupby('column')\\\n",
        "        .sum()[['feature_importance']]\\\n",
        "        .sort_values('feature_importance', ascending=False).index[:50]\n",
        "    \n",
        "    if len(filter_columns)>0:\n",
        "        feature_importance_df = feature_importance_df[feature_importance_df['column'].isin(filter_columns)]\n",
        "        order = feature_importance_df.groupby('column')\\\n",
        "        .sum()[['feature_importance']]\\\n",
        "        .sort_values('feature_importance', ascending=False).index[:50]\n",
        "\n",
        "    fig, ax = plt.subplots(figsize=(8, max(6, len(order) * .25)))\n",
        "    sns.boxenplot(data=feature_importance_df,\n",
        "                  x='feature_importance',\n",
        "                  y='column',\n",
        "                  order=order,\n",
        "                  ax=ax,\n",
        "                  palette='viridis',\n",
        "                  orient='h')\n",
        "    ax.tick_params(axis='x', rotation=90)\n",
        "    ax.set_title('Importance')\n",
        "    ax.grid()\n",
        "    fig.tight_layout()\n",
        "    return fig, ax\n",
        "\n",
        "\n",
        "visualize_importance(models,train[features])\n"
      ],
      "id": "whole-drove",
      "execution_count": 41,
      "outputs": [
        {
          "output_type": "execute_result",
          "data": {
            "text/plain": [
              "(<Figure size 576x900 with 1 Axes>,\n",
              " <matplotlib.axes._subplots.AxesSubplot at 0x7f68d96d7410>)"
            ]
          },
          "metadata": {
            "tags": []
          },
          "execution_count": 41
        },
        {
          "output_type": "display_data",
          "data": {
            "image/png": "[encoded data removed]",
            "text/plain": [
              "<Figure size 576x900 with 1 Axes>"
            ]
          },
          "metadata": {
            "tags": [],
            "needs_background": "light"
          }
        }
      ]
    },
    {
      "cell_type": "code",
      "metadata": {
        "id": "mineral-delaware",
        "colab": {
          "base_uri": "https://localhost:8080/",
          "height": 500
        },
        "outputId": "df56e5f1-70cf-4e78-8c3e-d749024a7ae8"
      },
      "source": [
        "y_train_oof = np.expm1(y_oof)\n",
        "\n",
        "fig, ax = plt.subplots(figsize=(8, 8))\n",
        "# ax.title('oof vs pred')\n",
        "ax.plot([0,4000], [0,4000], color='black')\n",
        "ax.scatter( np.expm1(y), np.expm1(y_oof))"
      ],
      "id": "mineral-delaware",
      "execution_count": 42,
      "outputs": [
        {
          "output_type": "execute_result",
          "data": {
            "text/plain": [
              "<matplotlib.collections.PathCollection at 0x7f68d01d9ad0>"
            ]
          },
          "metadata": {
            "tags": []
          },
          "execution_count": 42
        },
        {
          "output_type": "display_data",
          "data": {
            "image/png": "[encoded data removed]",
            "text/plain": [
              "<Figure size 576x576 with 1 Axes>"
            ]
          },
          "metadata": {
            "tags": [],
            "needs_background": "light"
          }
        }
      ]
    },
    {
      "cell_type": "code",
      "metadata": {
        "id": "funky-rider",
        "colab": {
          "base_uri": "https://localhost:8080/",
          "height": 500
        },
        "outputId": "4a9b3e84-92d9-427b-86c8-d30580c803c3"
      },
      "source": [
        "y_train_oof = np.expm1(y_oof)\n",
        "\n",
        "fig, ax = plt.subplots(figsize=(8, 8))\n",
        "# ax.title('oof vs pred')\n",
        "ax.plot([0,30], [0,30], color='black')\n",
        "ax.scatter(y, y_oof)"
      ],
      "id": "funky-rider",
      "execution_count": 43,
      "outputs": [
        {
          "output_type": "execute_result",
          "data": {
            "text/plain": [
              "<matplotlib.collections.PathCollection at 0x7f68d9967450>"
            ]
          },
          "metadata": {
            "tags": []
          },
          "execution_count": 43
        },
        {
          "output_type": "display_data",
          "data": {
            "image/png": "[encoded data removed]",
            "text/plain": [
              "<Figure size 576x576 with 1 Axes>"
            ]
          },
          "metadata": {
            "tags": [],
            "needs_background": "light"
          }
        }
      ]
    }
  ]
}